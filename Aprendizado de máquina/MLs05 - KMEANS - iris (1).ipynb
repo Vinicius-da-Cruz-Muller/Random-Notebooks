{
 "cells": [
  {
   "cell_type": "code",
   "execution_count": 2,
   "metadata": {},
   "outputs": [
    {
     "name": "stdout",
     "output_type": "stream",
     "text": [
      "Accuracy of K-means clustering: 0.8866666666666667\n"
     ]
    }
   ],
   "source": [
    "from sklearn.datasets import load_iris\n",
    "from sklearn.cluster import KMeans\n",
    "from sklearn.metrics import accuracy_score\n",
    "\n",
    "# Load the Iris dataset\n",
    "iris = load_iris()\n",
    "X = iris.data  # Features\n",
    "y_true = iris.target  # True class labels\n",
    "\n",
    "# Perform K-means clustering\n",
    "kmeans = KMeans(n_clusters=3, random_state=42)\n",
    "kmeans.fit(X)\n",
    "y_kmeans = kmeans.labels_  # Predicted cluster labels\n",
    "\n",
    "# Compare the K-means cluster assignments with the true class labels\n",
    "# Since K-means assigns arbitrary cluster labels, we need to map these labels to the true labels\n",
    "import numpy as np\n",
    "\n",
    "# Create a mapping from K-means cluster labels to true class labels\n",
    "mapping = {}\n",
    "for cluster in range(3):\n",
    "    # Get the indices of samples belonging to the current cluster\n",
    "    indices = np.where(kmeans.labels_ == cluster)[0]\n",
    "    # Get the true labels of those samples\n",
    "    labels = y_true[indices]\n",
    "    # Find the most common true label in this cluster\n",
    "    most_common_label = np.bincount(labels).argmax()\n",
    "    # Map the cluster label to the most common true label\n",
    "    mapping[cluster] = most_common_label\n",
    "\n",
    "# Map K-means cluster labels to true class labels\n",
    "y_kmeans_mapped = np.array([mapping[cluster] for cluster in kmeans.labels_])\n",
    "\n",
    "\n",
    "# Calculate accuracy of K-means clustering\n",
    "accuracy = accuracy_score(y_true, y_kmeans_mapped)\n",
    "print(\"Accuracy of K-means clustering:\", accuracy)\n"
   ]
  }
 ],
 "metadata": {
  "kernelspec": {
   "display_name": "Python 3",
   "language": "python",
   "name": "python3"
  },
  "language_info": {
   "codemirror_mode": {
    "name": "ipython",
    "version": 3
   },
   "file_extension": ".py",
   "mimetype": "text/x-python",
   "name": "python",
   "nbconvert_exporter": "python",
   "pygments_lexer": "ipython3",
   "version": "3.12.2"
  }
 },
 "nbformat": 4,
 "nbformat_minor": 2
}

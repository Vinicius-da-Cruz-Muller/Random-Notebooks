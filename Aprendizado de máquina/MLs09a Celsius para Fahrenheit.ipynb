{
  "cells": [
    {
      "cell_type": "markdown",
      "metadata": {
        "id": "IIh-faJXSy2z"
      },
      "source": [
        "# Definição da base\n"
      ]
    },
    {
      "cell_type": "markdown",
      "metadata": {
        "id": "MeM-M_ULS4zL"
      },
      "source": [
        "\n",
        "\n",
        "*   Base dados:\n",
        "\n",
        "\n",
        "*   Input(X) = Temperatura Celsius\n",
        "*   Output(Y) = Temperatura Fahrenheit\n",
        "\n",
        "\n",
        "\n"
      ]
    },
    {
      "cell_type": "markdown",
      "metadata": {
        "id": "Lg8QWwT4TJaK"
      },
      "source": [
        "# Etapa 01: Importação das bibliotecas\n"
      ]
    },
    {
      "cell_type": "code",
      "execution_count": null,
      "metadata": {
        "colab": {
          "base_uri": "https://localhost:8080/",
          "height": 35
        },
        "id": "bsC6Z5TmTVd7",
        "outputId": "9f4c5cc9-c1b2-4ba2-b6a1-2bdcd38b386c"
      },
      "outputs": [],
      "source": [
        "import tensorflow as tf\n",
        "tf.__version__"
      ]
    },
    {
      "cell_type": "code",
      "execution_count": null,
      "metadata": {
        "id": "lMQ454dFUSbW"
      },
      "outputs": [],
      "source": [
        "import pandas as pd\n",
        "import numpy as np\n",
        "import seaborn as sns\n",
        "import matplotlib.pyplot as plt"
      ]
    },
    {
      "cell_type": "markdown",
      "metadata": {
        "id": "uYKDBNvgUx5a"
      },
      "source": [
        "# Etapa 02: Importação dos dados"
      ]
    },
    {
      "cell_type": "code",
      "execution_count": null,
      "metadata": {
        "colab": {
          "base_uri": "https://localhost:8080/",
          "height": 990
        },
        "id": "0A8QZEwFU2Mr",
        "outputId": "6d8dd02c-933f-469e-d7ac-e57c1c0e9040"
      },
      "outputs": [],
      "source": [
        "sales_data = pd.read_csv('MLs09a Celsius para Fahrenheit.csv');\n",
        "sales_data"
      ]
    },
    {
      "cell_type": "code",
      "execution_count": null,
      "metadata": {
        "colab": {
          "base_uri": "https://localhost:8080/",
          "height": 206
        },
        "id": "Bis5HlyiWFIz",
        "outputId": "f062173b-1203-4f80-950b-4607aa2ab966"
      },
      "outputs": [],
      "source": [
        "sales_data.head()"
      ]
    },
    {
      "cell_type": "code",
      "execution_count": null,
      "metadata": {
        "colab": {
          "base_uri": "https://localhost:8080/",
          "height": 363
        },
        "id": "t9CIFjQuWJca",
        "outputId": "93a4a291-7515-40dd-b145-e21b98cd547b"
      },
      "outputs": [],
      "source": [
        "sales_data.tail(10)"
      ]
    },
    {
      "cell_type": "code",
      "execution_count": null,
      "metadata": {
        "colab": {
          "base_uri": "https://localhost:8080/",
          "height": 300
        },
        "id": "nQJ7hQVLWRN6",
        "outputId": "dfd509a4-865f-429f-a467-9b7c2c65f6f4"
      },
      "outputs": [],
      "source": [
        "sales_data.describe()"
      ]
    },
    {
      "cell_type": "markdown",
      "metadata": {
        "id": "f3SS95HYWzkE"
      },
      "source": [
        "# Etapa 03: Visualização de Dados"
      ]
    },
    {
      "cell_type": "code",
      "execution_count": null,
      "metadata": {
        "colab": {
          "base_uri": "https://localhost:8080/",
          "height": 279
        },
        "id": "cVPP3Ct_W7uV",
        "outputId": "3a57fcf1-d4c9-4d79-f98e-1900d297c42c"
      },
      "outputs": [],
      "source": [
        "sns.scatterplot(x=sales_data['Celsius'], y=sales_data['Fahrenheit']);"
      ]
    },
    {
      "cell_type": "markdown",
      "metadata": {
        "id": "baSoDZiLYS2B"
      },
      "source": [
        "# Etapa 04: Configuração da base de dados de treinamento"
      ]
    },
    {
      "cell_type": "code",
      "execution_count": null,
      "metadata": {
        "id": "tYP3TNyWYaJO"
      },
      "outputs": [],
      "source": [
        "x_train = sales_data['Celsius']\n",
        "y_train = sales_data['Fahrenheit']"
      ]
    },
    {
      "cell_type": "code",
      "execution_count": null,
      "metadata": {
        "colab": {
          "base_uri": "https://localhost:8080/"
        },
        "id": "rMxFSoRGYvQl",
        "outputId": "c6db18f5-3c13-4dd2-c405-29601f5c4f34"
      },
      "outputs": [],
      "source": [
        "x_train.shape"
      ]
    },
    {
      "cell_type": "code",
      "execution_count": null,
      "metadata": {
        "colab": {
          "base_uri": "https://localhost:8080/"
        },
        "id": "K2v3-XXzu_6l",
        "outputId": "8730fb8f-b3fc-4ed1-ce65-1d6b31af90e6"
      },
      "outputs": [],
      "source": [
        "y_train.shape"
      ]
    },
    {
      "cell_type": "markdown",
      "metadata": {
        "id": "WTt9qzhAY_Lc"
      },
      "source": [
        "# Etapa 05: Construção do modelo - 2 camadas com tamanho 10 e 5"
      ]
    },
    {
      "cell_type": "code",
      "execution_count": null,
      "metadata": {
        "colab": {
          "base_uri": "https://localhost:8080/"
        },
        "id": "EIhh_l7nZDmn",
        "outputId": "f155d83a-1453-41c3-ee3f-088a397475be"
      },
      "outputs": [],
      "source": [
        "model = tf.keras.Sequential()\n",
        "model.add(tf.keras.layers.Dense(units=10, input_shape = [1]))\n",
        "model.add(tf.keras.layers.Dense(units=5, input_shape = [1]))\n",
        "model.summary()"
      ]
    },
    {
      "cell_type": "markdown",
      "metadata": {
        "id": "eSuilCPrUAas"
      },
      "source": [
        "# Etapa 06: Treinar \n",
        "Adam é um método estocástico de otimização que usa o gradiente descendente para ajustar de forma adaptativa considerando minimizar o erro."
      ]
    },
    {
      "cell_type": "code",
      "execution_count": null,
      "metadata": {
        "colab": {
          "base_uri": "https://localhost:8080/"
        },
        "id": "FxG0auXFZpIO",
        "outputId": "3d5f8911-5a96-4f62-c900-f3e1952a5a4f"
      },
      "outputs": [],
      "source": [
        "model.compile(optimizer=tf.keras.optimizers.Adam(0.1), loss=\"mean_squared_error\")\n",
        "epochs_hist = model.fit(x_train, y_train, epochs=100)"
      ]
    },
    {
      "cell_type": "code",
      "execution_count": null,
      "metadata": {
        "colab": {
          "base_uri": "https://localhost:8080/"
        },
        "id": "L1Lp2n8wbpEt",
        "outputId": "8a74b862-936b-4e69-8a53-4f204c41df4c"
      },
      "outputs": [],
      "source": [
        "epochs_hist.history"
      ]
    },
    {
      "cell_type": "code",
      "execution_count": null,
      "metadata": {
        "colab": {
          "base_uri": "https://localhost:8080/",
          "height": 295
        },
        "id": "Q3ONVNdObvyM",
        "outputId": "5fc1e522-8f33-4564-82f0-09bbb5daf443"
      },
      "outputs": [],
      "source": [
        "plt.plot(epochs_hist.history['loss'])\n",
        "plt.title('Model Loss Progress During Training')\n",
        "plt.xlabel('Epoch')\n",
        "plt.ylabel('Training loss')\n",
        "plt.legend(['Training loss']);"
      ]
    },
    {
      "cell_type": "code",
      "execution_count": null,
      "metadata": {
        "colab": {
          "base_uri": "https://localhost:8080/"
        },
        "id": "FgW1Tu3Jd9Y4",
        "outputId": "5113ad99-5a51-415e-c8d9-c5a9a167def8"
      },
      "outputs": [],
      "source": [
        "model.get_weights()"
      ]
    },
    {
      "cell_type": "code",
      "execution_count": null,
      "metadata": {
        "colab": {
          "base_uri": "https://localhost:8080/"
        },
        "id": "Wj9ZKG5de2-_",
        "outputId": "867e0a89-7518-4e1b-c450-bbe777543873"
      },
      "outputs": [],
      "source": [
        "temp_c = 40\n",
        "predict = model.predict([temp_c])\n",
        "predict"
      ]
    },
    {
      "cell_type": "markdown",
      "metadata": {
        "id": "jPFvqq50ixip"
      },
      "source": [
        "# Vamos comparar o resultado"
      ]
    },
    {
      "cell_type": "code",
      "execution_count": null,
      "metadata": {
        "colab": {
          "base_uri": "https://localhost:8080/"
        },
        "id": "_IDc_uRLfCTd",
        "outputId": "4337c18f-02e9-4a55-cb3b-baea3382a066"
      },
      "outputs": [],
      "source": [
        "temp_f1 = 9/5 * temp_c + 32\n",
        "temp_f1"
      ]
    },
    {
      "cell_type": "markdown",
      "metadata": {
        "id": "SaZmLQX8ixhO"
      },
      "source": []
    },
    {
      "cell_type": "markdown",
      "metadata": {
        "id": "rX8TBiT5iejD"
      },
      "source": [
        "# Alguém te ideia pq temos 5 predições?\n",
        "Veja o tamanho da última camada = saída"
      ]
    },
    {
      "cell_type": "code",
      "execution_count": null,
      "metadata": {
        "id": "3VQNelsXik5R"
      },
      "outputs": [],
      "source": [
        "model.output_shape"
      ]
    }
  ],
  "metadata": {
    "colab": {
      "collapsed_sections": [],
      "provenance": []
    },
    "kernelspec": {
      "display_name": "Python 3.10.6 64-bit",
      "language": "python",
      "name": "python3"
    },
    "language_info": {
      "codemirror_mode": {
        "name": "ipython",
        "version": 3
      },
      "file_extension": ".py",
      "mimetype": "text/x-python",
      "name": "python",
      "nbconvert_exporter": "python",
      "pygments_lexer": "ipython3",
      "version": "3.12.2"
    },
    "vscode": {
      "interpreter": {
        "hash": "369f2c481f4da34e4445cda3fffd2e751bd1c4d706f27375911949ba6bb62e1c"
      }
    }
  },
  "nbformat": 4,
  "nbformat_minor": 0
}

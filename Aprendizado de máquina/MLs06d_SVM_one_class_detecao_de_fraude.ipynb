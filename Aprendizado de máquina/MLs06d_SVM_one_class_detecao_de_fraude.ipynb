{
  "cells": [
    {
      "cell_type": "markdown",
      "metadata": {
        "id": "DN9fpJSBfl3_"
      },
      "source": [
        "## Passo 1 carregar base de fraudes de credito"
      ]
    },
    {
      "cell_type": "code",
      "execution_count": 16,
      "metadata": {
        "id": "Alt-tklscx3v"
      },
      "outputs": [
        {
          "data": {
            "text/html": [
              "<div>\n",
              "<style scoped>\n",
              "    .dataframe tbody tr th:only-of-type {\n",
              "        vertical-align: middle;\n",
              "    }\n",
              "\n",
              "    .dataframe tbody tr th {\n",
              "        vertical-align: top;\n",
              "    }\n",
              "\n",
              "    .dataframe thead th {\n",
              "        text-align: right;\n",
              "    }\n",
              "</style>\n",
              "<table border=\"1\" class=\"dataframe\">\n",
              "  <thead>\n",
              "    <tr style=\"text-align: right;\">\n",
              "      <th></th>\n",
              "      <th>Time</th>\n",
              "      <th>V1</th>\n",
              "      <th>V2</th>\n",
              "      <th>V3</th>\n",
              "      <th>V4</th>\n",
              "      <th>V5</th>\n",
              "      <th>V6</th>\n",
              "      <th>V7</th>\n",
              "      <th>V8</th>\n",
              "      <th>V9</th>\n",
              "      <th>...</th>\n",
              "      <th>V21</th>\n",
              "      <th>V22</th>\n",
              "      <th>V23</th>\n",
              "      <th>V24</th>\n",
              "      <th>V25</th>\n",
              "      <th>V26</th>\n",
              "      <th>V27</th>\n",
              "      <th>V28</th>\n",
              "      <th>Amount</th>\n",
              "      <th>Class</th>\n",
              "    </tr>\n",
              "  </thead>\n",
              "  <tbody>\n",
              "    <tr>\n",
              "      <th>0</th>\n",
              "      <td>0.0</td>\n",
              "      <td>-1.359807</td>\n",
              "      <td>-0.072781</td>\n",
              "      <td>2.536347</td>\n",
              "      <td>1.378155</td>\n",
              "      <td>-0.338321</td>\n",
              "      <td>0.462388</td>\n",
              "      <td>0.239599</td>\n",
              "      <td>0.098698</td>\n",
              "      <td>0.363787</td>\n",
              "      <td>...</td>\n",
              "      <td>-0.018307</td>\n",
              "      <td>0.277838</td>\n",
              "      <td>-0.110474</td>\n",
              "      <td>0.066928</td>\n",
              "      <td>0.128539</td>\n",
              "      <td>-0.189115</td>\n",
              "      <td>0.133558</td>\n",
              "      <td>-0.021053</td>\n",
              "      <td>149.62</td>\n",
              "      <td>0</td>\n",
              "    </tr>\n",
              "    <tr>\n",
              "      <th>1</th>\n",
              "      <td>0.0</td>\n",
              "      <td>1.191857</td>\n",
              "      <td>0.266151</td>\n",
              "      <td>0.166480</td>\n",
              "      <td>0.448154</td>\n",
              "      <td>0.060018</td>\n",
              "      <td>-0.082361</td>\n",
              "      <td>-0.078803</td>\n",
              "      <td>0.085102</td>\n",
              "      <td>-0.255425</td>\n",
              "      <td>...</td>\n",
              "      <td>-0.225775</td>\n",
              "      <td>-0.638672</td>\n",
              "      <td>0.101288</td>\n",
              "      <td>-0.339846</td>\n",
              "      <td>0.167170</td>\n",
              "      <td>0.125895</td>\n",
              "      <td>-0.008983</td>\n",
              "      <td>0.014724</td>\n",
              "      <td>2.69</td>\n",
              "      <td>0</td>\n",
              "    </tr>\n",
              "    <tr>\n",
              "      <th>2</th>\n",
              "      <td>1.0</td>\n",
              "      <td>-1.358354</td>\n",
              "      <td>-1.340163</td>\n",
              "      <td>1.773209</td>\n",
              "      <td>0.379780</td>\n",
              "      <td>-0.503198</td>\n",
              "      <td>1.800499</td>\n",
              "      <td>0.791461</td>\n",
              "      <td>0.247676</td>\n",
              "      <td>-1.514654</td>\n",
              "      <td>...</td>\n",
              "      <td>0.247998</td>\n",
              "      <td>0.771679</td>\n",
              "      <td>0.909412</td>\n",
              "      <td>-0.689281</td>\n",
              "      <td>-0.327642</td>\n",
              "      <td>-0.139097</td>\n",
              "      <td>-0.055353</td>\n",
              "      <td>-0.059752</td>\n",
              "      <td>378.66</td>\n",
              "      <td>0</td>\n",
              "    </tr>\n",
              "    <tr>\n",
              "      <th>3</th>\n",
              "      <td>1.0</td>\n",
              "      <td>-0.966272</td>\n",
              "      <td>-0.185226</td>\n",
              "      <td>1.792993</td>\n",
              "      <td>-0.863291</td>\n",
              "      <td>-0.010309</td>\n",
              "      <td>1.247203</td>\n",
              "      <td>0.237609</td>\n",
              "      <td>0.377436</td>\n",
              "      <td>-1.387024</td>\n",
              "      <td>...</td>\n",
              "      <td>-0.108300</td>\n",
              "      <td>0.005274</td>\n",
              "      <td>-0.190321</td>\n",
              "      <td>-1.175575</td>\n",
              "      <td>0.647376</td>\n",
              "      <td>-0.221929</td>\n",
              "      <td>0.062723</td>\n",
              "      <td>0.061458</td>\n",
              "      <td>123.50</td>\n",
              "      <td>0</td>\n",
              "    </tr>\n",
              "    <tr>\n",
              "      <th>4</th>\n",
              "      <td>2.0</td>\n",
              "      <td>-1.158233</td>\n",
              "      <td>0.877737</td>\n",
              "      <td>1.548718</td>\n",
              "      <td>0.403034</td>\n",
              "      <td>-0.407193</td>\n",
              "      <td>0.095921</td>\n",
              "      <td>0.592941</td>\n",
              "      <td>-0.270533</td>\n",
              "      <td>0.817739</td>\n",
              "      <td>...</td>\n",
              "      <td>-0.009431</td>\n",
              "      <td>0.798278</td>\n",
              "      <td>-0.137458</td>\n",
              "      <td>0.141267</td>\n",
              "      <td>-0.206010</td>\n",
              "      <td>0.502292</td>\n",
              "      <td>0.219422</td>\n",
              "      <td>0.215153</td>\n",
              "      <td>69.99</td>\n",
              "      <td>0</td>\n",
              "    </tr>\n",
              "  </tbody>\n",
              "</table>\n",
              "<p>5 rows × 31 columns</p>\n",
              "</div>"
            ],
            "text/plain": [
              "   Time        V1        V2        V3        V4        V5        V6        V7  \\\n",
              "0   0.0 -1.359807 -0.072781  2.536347  1.378155 -0.338321  0.462388  0.239599   \n",
              "1   0.0  1.191857  0.266151  0.166480  0.448154  0.060018 -0.082361 -0.078803   \n",
              "2   1.0 -1.358354 -1.340163  1.773209  0.379780 -0.503198  1.800499  0.791461   \n",
              "3   1.0 -0.966272 -0.185226  1.792993 -0.863291 -0.010309  1.247203  0.237609   \n",
              "4   2.0 -1.158233  0.877737  1.548718  0.403034 -0.407193  0.095921  0.592941   \n",
              "\n",
              "         V8        V9  ...       V21       V22       V23       V24       V25  \\\n",
              "0  0.098698  0.363787  ... -0.018307  0.277838 -0.110474  0.066928  0.128539   \n",
              "1  0.085102 -0.255425  ... -0.225775 -0.638672  0.101288 -0.339846  0.167170   \n",
              "2  0.247676 -1.514654  ...  0.247998  0.771679  0.909412 -0.689281 -0.327642   \n",
              "3  0.377436 -1.387024  ... -0.108300  0.005274 -0.190321 -1.175575  0.647376   \n",
              "4 -0.270533  0.817739  ... -0.009431  0.798278 -0.137458  0.141267 -0.206010   \n",
              "\n",
              "        V26       V27       V28  Amount  Class  \n",
              "0 -0.189115  0.133558 -0.021053  149.62      0  \n",
              "1  0.125895 -0.008983  0.014724    2.69      0  \n",
              "2 -0.139097 -0.055353 -0.059752  378.66      0  \n",
              "3 -0.221929  0.062723  0.061458  123.50      0  \n",
              "4  0.502292  0.219422  0.215153   69.99      0  \n",
              "\n",
              "[5 rows x 31 columns]"
            ]
          },
          "execution_count": 16,
          "metadata": {},
          "output_type": "execute_result"
        }
      ],
      "source": [
        "import pandas as pd\n",
        "import numpy as np\n",
        "from sklearn import svm\n",
        "\n",
        "#!wget -O MLs15c_creditcard.csv \"https://upfluxpm-my.sharepoint.com/:x:/g/personal/cleitonsg_upflux_net/Ef7WwCV3tRpFgPwCfpUrSYQBsUZc3F7uqp5dYcvZj2sdgw?e=xkgflu&download=1\"\n",
        "cc = pd.read_csv(\"MLs15c creditcard.csv\")\n",
        "cc.head()"
      ]
    },
    {
      "cell_type": "markdown",
      "metadata": {
        "id": "AVvwhOaJft85"
      },
      "source": [
        "## Passo 2 Preparar base de treinamento e teste"
      ]
    },
    {
      "cell_type": "code",
      "execution_count": 17,
      "metadata": {
        "id": "HG-Jf3qrdd2_"
      },
      "outputs": [],
      "source": [
        "#Vamos alterar o nome de class para category\n",
        "cc= cc.rename(columns={'Class': 'Category'})\n",
        "# Vamos dividir o dataframe cc baseado nos labels.\n",
        "nor_obs = cc.loc[cc.Category==0]    # noramal\n",
        "ano_obs = cc.loc[cc.Category==1]    # anomalias"
      ]
    },
    {
      "cell_type": "code",
      "execution_count": 18,
      "metadata": {
        "id": "j_VmMTbGeqhE"
      },
      "outputs": [],
      "source": [
        "# Criando base de treinamento com as primeiras 200 mil instâncias normais\n",
        "train_feature = nor_obs.loc[0:100000, :]\n",
        "train_feature = train_feature.drop('Category', axis=1)"
      ]
    },
    {
      "cell_type": "code",
      "execution_count": 19,
      "metadata": {
        "colab": {
          "base_uri": "https://localhost:8080/"
        },
        "id": "CA9X5SUOe6Zp",
        "outputId": "2a7c6b5b-bbe9-4f7e-a4f5-4fec1a19c47c"
      },
      "outputs": [],
      "source": [
        "X_test_1 = nor_obs.loc[200000:, :].drop('Category',axis=1) # Criando base de testes com as normais\n",
        "X_test_2 = ano_obs.drop('Category',axis=1)\n",
        "X_test = pd.concat([X_test_1, X_test_2], ignore_index=True)\n",
        "\n",
        "# O conjunto de dados restante é (após 200.000 observações) anexado com observações anômalas\n",
        "Y_1 = nor_obs.loc[200000:, 'Category']\n",
        "Y_2 = ano_obs['Category']\n",
        "\n",
        "Y_test = pd.concat([Y_1, Y_2], ignore_index=True)\n",
        "#Y_test é usado para avaliação do modelo used to evaluste the model"
      ]
    },
    {
      "cell_type": "markdown",
      "metadata": {
        "id": "-PV7Trw3fhAA"
      },
      "source": [
        "# Passo 3 Treinar"
      ]
    },
    {
      "cell_type": "code",
      "execution_count": 20,
      "metadata": {
        "id": "GGvBsoLHfkUg"
      },
      "outputs": [
        {
          "name": "stderr",
          "output_type": "stream",
          "text": [
            "c:\\Python310\\lib\\site-packages\\sklearn\\utils\\validation.py:623: FutureWarning: is_sparse is deprecated and will be removed in a future version. Check `isinstance(dtype, pd.SparseDtype)` instead.\n",
            "  if not hasattr(array, \"sparse\") and array.dtypes.apply(is_sparse).any():\n"
          ]
        },
        {
          "data": {
            "text/plain": [
              "OneClassSVM(gamma=0.001, kernel='linear', nu=0.95)"
            ]
          },
          "execution_count": 20,
          "metadata": {},
          "output_type": "execute_result"
        }
      ],
      "source": [
        "# Configurar hyperparameters do SVM One Class\n",
        "oneclass = svm.OneClassSVM(kernel='linear', gamma=0.001, nu=0.95)\n",
        "# Muitas opcoes de hyperparameters como: linear, rbf, poly / gamma: 0.001, 0.0001 / nu: 0.25, 0.5, 0.75, 0.95\n",
        "oneclass.fit(train_feature)"
      ]
    },
    {
      "cell_type": "markdown",
      "metadata": {
        "id": "5TIVlXbAgdGx"
      },
      "source": [
        "## Passo 4 Avaliar"
      ]
    },
    {
      "cell_type": "code",
      "execution_count": 21,
      "metadata": {
        "id": "r0ZePRU1gf0c"
      },
      "outputs": [
        {
          "name": "stderr",
          "output_type": "stream",
          "text": [
            "c:\\Python310\\lib\\site-packages\\sklearn\\utils\\validation.py:623: FutureWarning: is_sparse is deprecated and will be removed in a future version. Check `isinstance(dtype, pd.SparseDtype)` instead.\n",
            "  if not hasattr(array, \"sparse\") and array.dtypes.apply(is_sparse).any():\n"
          ]
        },
        {
          "name": "stdout",
          "output_type": "stream",
          "text": [
            "[[   -1   217]\n",
            " [    1 84975]]\n"
          ]
        }
      ],
      "source": [
        "fraud_pred = oneclass.predict(X_test)\n",
        "# Verifique o número de outliers preditos pelo modelo\n",
        "unique, counts = np.unique(fraud_pred, return_counts=True)\n",
        "print(np.asarray((unique, counts)).T)"
      ]
    },
    {
      "cell_type": "code",
      "execution_count": 22,
      "metadata": {
        "id": "pkQBZA-ThGr-"
      },
      "outputs": [],
      "source": [
        "# Converter Y-test e fraud_pred em um dataframe\n",
        "Y_test = Y_test.to_frame()\n",
        "Y_test = Y_test.reset_index()\n",
        "fraud_pred = pd.DataFrame(fraud_pred)\n",
        "fraud_pred = fraud_pred.rename(columns={0: 'prediction'})"
      ]
    },
    {
      "cell_type": "code",
      "execution_count": 23,
      "metadata": {
        "colab": {
          "base_uri": "https://localhost:8080/"
        },
        "id": "Qxqm9buRh3Bb",
        "outputId": "75eafe06-a28f-45b2-bddf-a281c0728c2d"
      },
      "outputs": [
        {
          "name": "stdout",
          "output_type": "stream",
          "text": [
            "84700 0 275 217\n"
          ]
        }
      ],
      "source": [
        "TP = FN = FP = TN = 0\n",
        "for j in range(len(Y_test)):\n",
        "    if Y_test['Category'][j]== 0 and fraud_pred['prediction'][j] == 1:\n",
        "        TP = TP+1\n",
        "    elif Y_test['Category'][j]== 0 and fraud_pred['prediction'][j] == -1:\n",
        "        FN = FN+1\n",
        "    elif Y_test['Category'][j]== 1 and fraud_pred['prediction'][j] == 1:\n",
        "        FP = FP+1\n",
        "    else:\n",
        "        TN = TN+1\n",
        "print (TP,  FN,  FP,  TN)"
      ]
    },
    {
      "cell_type": "code",
      "execution_count": 24,
      "metadata": {
        "colab": {
          "base_uri": "https://localhost:8080/"
        },
        "id": "cvWyFFL8iGj4",
        "outputId": "9b55d19c-bf4d-4ffb-a166-305fe54d2065"
      },
      "outputs": [
        {
          "name": "stdout",
          "output_type": "stream",
          "text": [
            "0.9967719973706451\n"
          ]
        }
      ],
      "source": [
        "accuracy = (TP+TN)/(TP+FN+FP+TN)\n",
        "print (accuracy)"
      ]
    },
    {
      "cell_type": "markdown",
      "metadata": {
        "id": "vC8ghllaiXGE"
      },
      "source": [
        "## Uma vez que a classe SVM mostrou um desempenho muito promissor para este conjunto de dados com mais de 99% de detecção de anomalia e muito poucos alarmes falsos."
      ]
    }
  ],
  "metadata": {
    "accelerator": "GPU",
    "colab": {
      "provenance": []
    },
    "kernelspec": {
      "display_name": "Python 3",
      "name": "python3"
    },
    "language_info": {
      "codemirror_mode": {
        "name": "ipython",
        "version": 3
      },
      "file_extension": ".py",
      "mimetype": "text/x-python",
      "name": "python",
      "nbconvert_exporter": "python",
      "pygments_lexer": "ipython3",
      "version": "3.10.6"
    }
  },
  "nbformat": 4,
  "nbformat_minor": 0
}

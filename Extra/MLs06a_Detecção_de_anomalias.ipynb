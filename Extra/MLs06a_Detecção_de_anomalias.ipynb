{
  "nbformat": 4,
  "nbformat_minor": 0,
  "metadata": {
    "colab": {
      "provenance": [],
      "collapsed_sections": []
    },
    "kernelspec": {
      "name": "python3",
      "display_name": "Python 3"
    },
    "language_info": {
      "name": "python"
    }
  },
  "cells": [
    {
      "cell_type": "markdown",
      "source": [
        "## Passo 1 Carregaremos uma base simples com duas dimensões."
      ],
      "metadata": {
        "id": "Ng7tGzH5JiN8"
      }
    },
    {
      "cell_type": "code",
      "execution_count": null,
      "metadata": {
        "id": "K3bGvTLmFm_L",
        "colab": {
          "base_uri": "https://localhost:8080/"
        },
        "outputId": "c43ea3fa-1f89-4dc0-bf82-096833185489"
      },
      "outputs": [
        {
          "output_type": "execute_result",
          "data": {
            "text/plain": [
              "(307, 2)"
            ]
          },
          "metadata": {},
          "execution_count": 3
        }
      ],
      "source": [
        "import numpy as np\n",
        "import pandas as pd\n",
        "import matplotlib.pyplot as plt\n",
        "import seaborn as sb\n",
        "from scipy.io import loadmat\n",
        "\n",
        "data = loadmat('MLs15a anomalia.mat')\n",
        "X = data['X']\n",
        "X.shape"
      ]
    },
    {
      "cell_type": "markdown",
      "source": [
        "##Passo 2 Temo um cluster bem apertado no centro com vários valores mais distantes do cluster. Neste exemplo os exemplos distantes podem ser consideradas anomalias."
      ],
      "metadata": {
        "id": "e9p1VF_eJf0D"
      }
    },
    {
      "cell_type": "code",
      "source": [
        "fig, ax = plt.subplots(figsize=(12,8))\n",
        "ax.scatter(X[:,0], X[:,1])"
      ],
      "metadata": {
        "colab": {
          "base_uri": "https://localhost:8080/",
          "height": 500
        },
        "id": "7UWZvo5EIuT7",
        "outputId": "a064947f-2cd4-4025-ce9c-930570cfab0f"
      },
      "execution_count": null,
      "outputs": [
        {
          "output_type": "execute_result",
          "data": {
            "text/plain": [
              "<matplotlib.collections.PathCollection at 0x7fa39d663dd0>"
            ]
          },
          "metadata": {},
          "execution_count": 3
        },
        {
          "output_type": "display_data",
          "data": {
            "text/plain": [
              "<Figure size 864x576 with 1 Axes>"
            ],
            "image/png": "[encoded data removed]"
          },
          "metadata": {
            "needs_background": "light"
          }
        }
      ]
    },
    {
      "cell_type": "markdown",
      "source": [
        "## Passo 3 Para descobrir, vamos estimar uma distribuição gaussiana para cada característica nos dados. Criaremos uma função que retorna a média e a variância de cada recurso."
      ],
      "metadata": {
        "id": "iCzOxfHdI-xV"
      }
    },
    {
      "cell_type": "code",
      "source": [
        "def estimate_gaussian(X):\n",
        "    mu = X.mean(axis=0)\n",
        "    sigma = X.var(axis=0)\n",
        "    \n",
        "    return mu, sigma\n",
        "    \n",
        "mu, sigma = estimate_gaussian(X)\n",
        "mu, sigma"
      ],
      "metadata": {
        "colab": {
          "base_uri": "https://localhost:8080/"
        },
        "id": "nE5VKK4xI94P",
        "outputId": "fc761fb9-90a1-4cea-886f-ddc519eb82cc"
      },
      "execution_count": null,
      "outputs": [
        {
          "output_type": "execute_result",
          "data": {
            "text/plain": [
              "(array([14.11222578, 14.99771051]), array([1.83263141, 1.70974533]))"
            ]
          },
          "metadata": {},
          "execution_count": 4
        }
      ]
    },
    {
      "cell_type": "markdown",
      "source": [
        "## Passo 4 Agora que temos os parâmetros do nosso modelo, precisamos determinar um limite de probabilidade que indica que um exemplo deve ser considerado uma anomalia. \n",
        "Para fazer isso, precisamos usar um conjunto de dados de validação rotulados (onde as anomalias verdadeiras foram marcadas como tal) e testar o desempenho do modelo na identificação dessas anomalias com valores de limite diferentes. "
      ],
      "metadata": {
        "id": "SPxbqoUWKRGy"
      }
    },
    {
      "cell_type": "code",
      "source": [
        "Xval = data['Xval']\n",
        "yval = data['yval']\n",
        "\n",
        "Xval.shape, yval.shape"
      ],
      "metadata": {
        "colab": {
          "base_uri": "https://localhost:8080/"
        },
        "id": "O8PLrPA6KeOo",
        "outputId": "6819cfee-bff1-4a19-cf0e-ae3caabc5088"
      },
      "execution_count": null,
      "outputs": [
        {
          "output_type": "execute_result",
          "data": {
            "text/plain": [
              "((307, 2), (307, 1))"
            ]
          },
          "metadata": {},
          "execution_count": 5
        }
      ]
    },
    {
      "cell_type": "markdown",
      "source": [
        "Também precisamos de uma maneira de calcular a probabilidade de um ponto de dados pertencer a uma distribuição normal. Felizmente o SciPy tem isso pronto."
      ],
      "metadata": {
        "id": "svG1VwtOK2Ej"
      }
    },
    {
      "cell_type": "code",
      "source": [
        "from scipy import stats\n",
        "dist = stats.norm(mu[0], sigma[0])\n",
        "dist.pdf(15)"
      ],
      "metadata": {
        "colab": {
          "base_uri": "https://localhost:8080/"
        },
        "id": "AFgHiQfgK-U-",
        "outputId": "42f21be8-4a4e-45e1-b908-e5b774144afa"
      },
      "execution_count": null,
      "outputs": [
        {
          "output_type": "execute_result",
          "data": {
            "text/plain": [
              "0.1935875044615038"
            ]
          },
          "metadata": {},
          "execution_count": 6
        }
      ]
    },
    {
      "cell_type": "markdown",
      "source": [
        "Também podemos passar uma matriz para a função de densidade de probabilidade e obter a densidade de probabilidade em todos os pontos do conjunto de dados."
      ],
      "metadata": {
        "id": "N8z2OElQLGqb"
      }
    },
    {
      "cell_type": "code",
      "source": [
        "dist.pdf(X[:,0])[0:50]"
      ],
      "metadata": {
        "colab": {
          "base_uri": "https://localhost:8080/"
        },
        "id": "ld8aHpHWLILM",
        "outputId": "30f1c0ec-5bc5-496a-ff52-a311e6d4b926"
      },
      "execution_count": null,
      "outputs": [
        {
          "output_type": "execute_result",
          "data": {
            "text/plain": [
              "array([0.183842  , 0.20221694, 0.21746136, 0.19778763, 0.20858956,\n",
              "       0.21652359, 0.16991291, 0.15123542, 0.1163989 , 0.1594734 ,\n",
              "       0.21716057, 0.21760472, 0.20141857, 0.20157497, 0.21711385,\n",
              "       0.21758775, 0.21695576, 0.2138258 , 0.21057069, 0.1173018 ,\n",
              "       0.20765108, 0.21717452, 0.19510663, 0.21702152, 0.17429399,\n",
              "       0.15413455, 0.21000109, 0.20223586, 0.21031898, 0.21313426,\n",
              "       0.16158946, 0.2170794 , 0.17825767, 0.17414633, 0.1264951 ,\n",
              "       0.19723662, 0.14538809, 0.21766361, 0.21191386, 0.21729442,\n",
              "       0.21238912, 0.18799417, 0.21259798, 0.21752767, 0.20616968,\n",
              "       0.21520366, 0.1280081 , 0.21768113, 0.21539967, 0.16913173])"
            ]
          },
          "metadata": {},
          "execution_count": 7
        }
      ]
    },
    {
      "cell_type": "markdown",
      "source": [
        "Vamos calcular e salvar a densidade de probabilidade de cada um dos valores em nosso conjunto de dados, considerando os parâmetros do modelo gaussiano que calculamos acima."
      ],
      "metadata": {
        "id": "teu2565BLT2t"
      }
    },
    {
      "cell_type": "code",
      "source": [
        "p = np.zeros((X.shape[0], X.shape[1]))\n",
        "p[:,0] = stats.norm(mu[0], sigma[0]).pdf(X[:,0])\n",
        "p[:,1] = stats.norm(mu[1], sigma[1]).pdf(X[:,1])\n",
        "\n",
        "p.shape"
      ],
      "metadata": {
        "colab": {
          "base_uri": "https://localhost:8080/"
        },
        "id": "TO0DMfoTLqAL",
        "outputId": "ffcfe1dc-40a5-40ce-8549-ee91e1178119"
      },
      "execution_count": null,
      "outputs": [
        {
          "output_type": "execute_result",
          "data": {
            "text/plain": [
              "(307, 2)"
            ]
          },
          "metadata": {},
          "execution_count": 8
        }
      ]
    },
    {
      "cell_type": "markdown",
      "source": [
        "##Passo 5 Preparando validação\n",
        "Precisamos fazer isso para o conjunto de validação (usando os mesmos parâmetros do modelo). Usaremos essas probabilidades combinadas com o rótulo verdadeiro para determinar o limite de probabilidade ideal para atribuir pontos de dados como anomalias."
      ],
      "metadata": {
        "id": "K3xpW7zrLwrc"
      }
    },
    {
      "cell_type": "code",
      "source": [
        "pval = np.zeros((Xval.shape[0], Xval.shape[1]))\n",
        "pval[:,0] = stats.norm(mu[0], sigma[0]).pdf(Xval[:,0])\n",
        "pval[:,1] = stats.norm(mu[1], sigma[1]).pdf(Xval[:,1])\n",
        "\n",
        "pval.shape"
      ],
      "metadata": {
        "colab": {
          "base_uri": "https://localhost:8080/"
        },
        "id": "y_ZPiyLZMHmW",
        "outputId": "6456e5e5-232a-4697-b4dd-d71a7b2c6620"
      },
      "execution_count": null,
      "outputs": [
        {
          "output_type": "execute_result",
          "data": {
            "text/plain": [
              "(307, 2)"
            ]
          },
          "metadata": {},
          "execution_count": 9
        }
      ]
    },
    {
      "cell_type": "markdown",
      "source": [
        "Em seguida, precisamos de uma função que encontre o melhor valor limite, dados os valores de densidade de probabilidade e os rótulos verdadeiros. Para fazer isso, calcularemos a pontuação F1 para valores variados de epsilon. F1 é uma função do número de verdadeiros positivos, falsos positivos e falsos negativos. As equações estão no texto do exercício."
      ],
      "metadata": {
        "id": "QGWOc2OgMerJ"
      }
    },
    {
      "cell_type": "code",
      "source": [
        "def select_threshold(pval, yval):\n",
        "    best_epsilon = 0\n",
        "    best_f1 = 0\n",
        "    f1 = 0\n",
        "    \n",
        "    step = (pval.max() - pval.min()) / 1000\n",
        "    \n",
        "    for epsilon in np.arange(pval.min(), pval.max(), step):\n",
        "        preds = pval < epsilon\n",
        "        \n",
        "        tp = np.sum(np.logical_and(preds == 1, yval == 1)).astype(float)\n",
        "        fp = np.sum(np.logical_and(preds == 1, yval == 0)).astype(float)\n",
        "        fn = np.sum(np.logical_and(preds == 0, yval == 1)).astype(float)\n",
        "        \n",
        "        precision = tp / (tp + fp)\n",
        "        recall = tp / (tp + fn)\n",
        "        f1 = (2 * precision * recall) / (precision + recall)\n",
        "        \n",
        "        if f1 > best_f1:\n",
        "            best_f1 = f1\n",
        "            best_epsilon = epsilon\n",
        "    \n",
        "    return best_epsilon, best_f1\n",
        "\n",
        "epsilon, f1 = select_threshold(pval, yval)\n",
        "epsilon, f1"
      ],
      "metadata": {
        "colab": {
          "base_uri": "https://localhost:8080/"
        },
        "id": "OuBiIeCRMjSy",
        "outputId": "7412e26d-03c5-43ab-a9bc-6dbdc34e1621"
      },
      "execution_count": null,
      "outputs": [
        {
          "output_type": "stream",
          "name": "stderr",
          "text": [
            "/usr/local/lib/python3.7/dist-packages/ipykernel_launcher.py:15: RuntimeWarning: invalid value encountered in double_scalars\n",
            "  from ipykernel import kernelapp as app\n"
          ]
        },
        {
          "output_type": "execute_result",
          "data": {
            "text/plain": [
              "(0.009566706005956842, 0.7142857142857143)"
            ]
          },
          "metadata": {},
          "execution_count": 10
        }
      ]
    },
    {
      "cell_type": "markdown",
      "source": [
        "## Passo 6 Aplicar o limite ao conjunto de dados e visualizar os resultados."
      ],
      "metadata": {
        "id": "A5Vv1VNqM0Sd"
      }
    },
    {
      "cell_type": "code",
      "source": [
        "# índices dos valores considerados outliers\n",
        "outliers = np.where(p < epsilon)\n",
        "outliers"
      ],
      "metadata": {
        "colab": {
          "base_uri": "https://localhost:8080/"
        },
        "id": "GRMW7lDRM7-B",
        "outputId": "d6dce812-ac51-45a7-9b24-0f170007c54e"
      },
      "execution_count": null,
      "outputs": [
        {
          "output_type": "execute_result",
          "data": {
            "text/plain": [
              "(array([300, 301, 301, 303, 303, 304, 306, 306]),\n",
              " array([1, 0, 1, 0, 1, 0, 0, 1]))"
            ]
          },
          "metadata": {},
          "execution_count": 11
        }
      ]
    },
    {
      "cell_type": "markdown",
      "source": [
        "Os pontos em vermelho são os que foram sinalizados como outliers. Estes parecem bastante razoáveis. O ponto superior direito que tem alguma separação, mas não foi sinalizado, talvez poderia ser um valor atípico também, mas é bastante próximo."
      ],
      "metadata": {
        "id": "uaj6Xn0uNKD4"
      }
    },
    {
      "cell_type": "code",
      "source": [
        "fig, ax = plt.subplots(figsize=(12,8))\n",
        "ax.scatter(X[:,0], X[:,1])\n",
        "ax.scatter(X[outliers[0],0], X[outliers[0],1], s=50, color='r', marker='o')"
      ],
      "metadata": {
        "colab": {
          "base_uri": "https://localhost:8080/",
          "height": 500
        },
        "id": "cBHOMq0BNDw2",
        "outputId": "8a5b5d21-0e47-4b26-97c1-e72c3ff392ee"
      },
      "execution_count": null,
      "outputs": [
        {
          "output_type": "execute_result",
          "data": {
            "text/plain": [
              "<matplotlib.collections.PathCollection at 0x7fa39d10c550>"
            ]
          },
          "metadata": {},
          "execution_count": 12
        },
        {
          "output_type": "display_data",
          "data": {
            "text/plain": [
              "<Figure size 864x576 with 1 Axes>"
            ],
            "image/png": "[encoded data removed]"
          },
          "metadata": {
            "needs_background": "light"
          }
        }
      ]
    }
  ]
}
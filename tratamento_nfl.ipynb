{
 "cells": [
  {
   "cell_type": "code",
   "execution_count": 1,
   "metadata": {},
   "outputs": [],
   "source": [
    "import pandas as pd\n",
    "import matplotlib.pyplot as plt\n",
    "import datetime as dt\n",
    "import openpyxl"
   ]
  },
  {
   "cell_type": "code",
   "execution_count": 2,
   "metadata": {},
   "outputs": [
    {
     "name": "stderr",
     "output_type": "stream",
     "text": [
      "C:\\Users\\vini1\\AppData\\Local\\Temp\\ipykernel_23820\\1046773743.py:1: DtypeWarning: Columns (42,166,167,168,169,174,175,178,179,182,183,188,189,190,191,194,195,203,204,205,218,219,220,231,232,233,238,240,241,249) have mixed types. Specify dtype option on import or set low_memory=False.\n",
      "  dataset = pd.read_csv(\"NFL Play by Play 2009-2018 (v5).csv\")\n"
     ]
    }
   ],
   "source": [
    "dataset = pd.read_csv(\"NFL Play by Play 2009-2018 (v5).csv\")"
   ]
  },
  {
   "cell_type": "code",
   "execution_count": 3,
   "metadata": {},
   "outputs": [
    {
     "name": "stdout",
     "output_type": "stream",
     "text": [
      "O dataset tem 449371 linhas.\n"
     ]
    }
   ],
   "source": [
    "num_linhas = dataset.shape[0]\n",
    "print(\"O dataset tem\", num_linhas, \"linhas.\")"
   ]
  },
  {
   "cell_type": "code",
   "execution_count": 4,
   "metadata": {},
   "outputs": [
    {
     "name": "stdout",
     "output_type": "stream",
     "text": [
      "<class 'pandas.core.frame.DataFrame'>\n",
      "RangeIndex: 449371 entries, 0 to 449370\n",
      "Columns: 255 entries, play_id to defensive_extra_point_conv\n",
      "dtypes: float64(135), int64(18), object(102)\n",
      "memory usage: 874.2+ MB\n",
      "None\n"
     ]
    }
   ],
   "source": [
    "print(dataset.info())"
   ]
  },
  {
   "cell_type": "code",
   "execution_count": null,
   "metadata": {},
   "outputs": [],
   "source": [
    "for col in dataset.columns:\n",
    "    print(col)"
   ]
  },
  {
   "cell_type": "code",
   "execution_count": 6,
   "metadata": {},
   "outputs": [],
   "source": [
    "colunas_desejadas = ['play_id', 'game_id', 'home_team', 'away_team', 'posteam', 'yardline_100', 'game_date', 'game_seconds_remaining', 'game_half', 'time', 'yrdln', 'desc', 'play_type', 'pass_length', 'pass_location', 'run_location', 'field_goal_result', 'td_team', 'total_home_score', 'total_away_score', 'home_wp', 'away_wp', 'passer_player_id', 'passer_player_name', 'receiver_player_id', 'receiver_player_name', 'rusher_player_id', 'rusher_player_name', 'penalty_team', 'penalty_player_id', 'penalty_player_name', 'penalty_type']\n",
    "novo_dataset = dataset[colunas_desejadas]"
   ]
  },
  {
   "cell_type": "code",
   "execution_count": 7,
   "metadata": {},
   "outputs": [],
   "source": [
    "novo_dataset.to_csv('novo_dataset.csv', index=False)"
   ]
  }
 ],
 "metadata": {
  "kernelspec": {
   "display_name": "Python 3",
   "language": "python",
   "name": "python3"
  },
  "language_info": {
   "codemirror_mode": {
    "name": "ipython",
    "version": 3
   },
   "file_extension": ".py",
   "mimetype": "text/x-python",
   "name": "python",
   "nbconvert_exporter": "python",
   "pygments_lexer": "ipython3",
   "version": "3.11.4"
  }
 },
 "nbformat": 4,
 "nbformat_minor": 2
}
